{
 "cells": [
  {
   "cell_type": "code",
   "execution_count": 20,
   "metadata": {},
   "outputs": [],
   "source": [
    "import numpy as np\n",
    "import pandas as pd\n"
   ]
  },
  {
   "cell_type": "code",
   "execution_count": 21,
   "metadata": {},
   "outputs": [],
   "source": [
    "# Define the number of users\n",
    "n_users = 10000\n",
    "np.random.seed(0);"
   ]
  },
  {
   "cell_type": "code",
   "execution_count": 22,
   "metadata": {},
   "outputs": [],
   "source": [
    "\n",
    "\n",
    "# Generate random data for each user feature\n",
    "user_id=np.arange(n_users)\n",
    "age = np.random.randint(18, 65, n_users)\n",
    "income = np.random.normal(50000, 15000, n_users)\n",
    "education = np.random.choice(\n",
    "    ['High school', 'Primary', 'Bachelor', 'Master', 'PhD'], n_users)\n",
    "gender = np.random.choice(['Male', 'Female'], n_users)\n",
    "marital_status = np.random.choice(\n",
    "    ['Married', 'Single', 'Divorced', 'Widowed'], n_users)\n",
    "occupation = np.random.choice(\n",
    "    ['Professional', 'Technical', 'Sales', 'Administrative', 'Service'], n_users)\n"
   ]
  },
  {
   "cell_type": "code",
   "execution_count": 23,
   "metadata": {},
   "outputs": [],
   "source": [
    "# Combine the data into a DataFrame\n",
    "user_features = pd.DataFrame({\n",
    "    'user_id':user_id,\n",
    "    'age': age,\n",
    "    'income': income,\n",
    "    'education': education,\n",
    "    'gender': gender,\n",
    "    'marital_status': marital_status,\n",
    "    'occupation': occupation\n",
    "})\n"
   ]
  },
  {
   "cell_type": "code",
   "execution_count": 24,
   "metadata": {},
   "outputs": [],
   "source": [
    "# Add a user ID column\n",
    "# user_features.index.name = 'user_id'\n",
    "# user_features.reset_index(inplace=True)\n"
   ]
  },
  {
   "cell_type": "code",
   "execution_count": 1,
   "metadata": {},
   "outputs": [
    {
     "ename": "NameError",
     "evalue": "name 'user_features' is not defined",
     "output_type": "error",
     "traceback": [
      "\u001b[1;31m---------------------------------------------------------------------------\u001b[0m",
      "\u001b[1;31mNameError\u001b[0m                                 Traceback (most recent call last)",
      "\u001b[1;32md:\\Program\\Python\\ORIGINAL\\dataset.ipynb Cell 6\u001b[0m in \u001b[0;36m<cell line: 2>\u001b[1;34m()\u001b[0m\n\u001b[0;32m      <a href='vscode-notebook-cell:/d%3A/Program/Python/ORIGINAL/dataset.ipynb#W5sZmlsZQ%3D%3D?line=0'>1</a>\u001b[0m \u001b[39m# Save the data to a CSV file\u001b[39;00m\n\u001b[1;32m----> <a href='vscode-notebook-cell:/d%3A/Program/Python/ORIGINAL/dataset.ipynb#W5sZmlsZQ%3D%3D?line=1'>2</a>\u001b[0m user_features\u001b[39m.\u001b[39mto_csv(\u001b[39m'\u001b[39m\u001b[39muser_features.csv\u001b[39m\u001b[39m'\u001b[39m, index\u001b[39m=\u001b[39m\u001b[39mFalse\u001b[39;00m)\n\u001b[0;32m      <a href='vscode-notebook-cell:/d%3A/Program/Python/ORIGINAL/dataset.ipynb#W5sZmlsZQ%3D%3D?line=2'>3</a>\u001b[0m user_features\n",
      "\u001b[1;31mNameError\u001b[0m: name 'user_features' is not defined"
     ]
    }
   ],
   "source": [
    "\n",
    "# Save the data to a CSV file\n",
    "user_features.to_csv('user_features.csv', index=False)\n",
    "user_features"
   ]
  },
  {
   "cell_type": "code",
   "execution_count": null,
   "metadata": {},
   "outputs": [],
   "source": []
  }
 ],
 "metadata": {
  "kernelspec": {
   "display_name": "base",
   "language": "python",
   "name": "python3"
  },
  "language_info": {
   "codemirror_mode": {
    "name": "ipython",
    "version": 3
   },
   "file_extension": ".py",
   "mimetype": "text/x-python",
   "name": "python",
   "nbconvert_exporter": "python",
   "pygments_lexer": "ipython3",
   "version": "3.9.12"
  },
  "orig_nbformat": 4,
  "vscode": {
   "interpreter": {
    "hash": "fcf35a8efb6e5600bd32894643fa76e91405ee7480c4f6a83cfc28873443e0dc"
   }
  }
 },
 "nbformat": 4,
 "nbformat_minor": 2
}
